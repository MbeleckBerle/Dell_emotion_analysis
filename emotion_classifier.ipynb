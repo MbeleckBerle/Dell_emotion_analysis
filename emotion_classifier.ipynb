{
 "cells": [
  {
   "cell_type": "markdown",
   "metadata": {},
   "source": [
    "# Emotion Classifier using Twitter data\n"
   ]
  },
  {
   "cell_type": "code",
   "execution_count": 1,
   "metadata": {},
   "outputs": [],
   "source": [
    "# !pip install textblob\n",
    "# !pip install nltk\n",
    "# !pip install matplotlib\n",
    "# !pip install scikit-learn\n",
    "# !pip install xgboost\n",
    "# !pip install pandas\n",
    "# !pip install numpy\n",
    "\n",
    "\n",
    "import pandas as pd\n",
    "import matplotlib.pyplot as plt\n",
    "from sklearn.feature_extraction.text import CountVectorizer, TfidfVectorizer\n",
    "import sklearn.feature_extraction.text as text\n",
    "from sklearn import (\n",
    "    model_selection,\n",
    "    preprocessing,\n",
    "    linear_model,\n",
    "    naive_bayes,\n",
    "    metrics,\n",
    "    svm,\n",
    ")\n",
    "from sklearn import decomposition, ensemble\n",
    "import re\n",
    "from sklearn.metrics import classification_report\n",
    "from sklearn.metrics import confusion_matrix\n",
    "from sklearn.metrics import accuracy_score\n",
    "from sklearn.model_selection import train_test_split\n"
   ]
  },
  {
   "cell_type": "markdown",
   "metadata": {},
   "source": [
    "## Reading file\n"
   ]
  },
  {
   "cell_type": "code",
   "execution_count": 2,
   "metadata": {},
   "outputs": [
    {
     "data": {
      "text/html": [
       "<div>\n",
       "<style scoped>\n",
       "    .dataframe tbody tr th:only-of-type {\n",
       "        vertical-align: middle;\n",
       "    }\n",
       "\n",
       "    .dataframe tbody tr th {\n",
       "        vertical-align: top;\n",
       "    }\n",
       "\n",
       "    .dataframe thead th {\n",
       "        text-align: right;\n",
       "    }\n",
       "</style>\n",
       "<table border=\"1\" class=\"dataframe\">\n",
       "  <thead>\n",
       "    <tr style=\"text-align: right;\">\n",
       "      <th></th>\n",
       "      <th>Datetime</th>\n",
       "      <th>Tweet Id</th>\n",
       "      <th>Text</th>\n",
       "      <th>Username</th>\n",
       "      <th>sentiment</th>\n",
       "      <th>sentiment_score</th>\n",
       "      <th>emotion</th>\n",
       "      <th>emotion_score</th>\n",
       "    </tr>\n",
       "  </thead>\n",
       "  <tbody>\n",
       "    <tr>\n",
       "      <th>0</th>\n",
       "      <td>2022-09-30 23:29:15+00:00</td>\n",
       "      <td>1575991191170342912</td>\n",
       "      <td>@Logitech @apple @Google @Microsoft @Dell @Len...</td>\n",
       "      <td>ManjuSreedaran</td>\n",
       "      <td>neutral</td>\n",
       "      <td>0.853283</td>\n",
       "      <td>anticipation</td>\n",
       "      <td>0.587121</td>\n",
       "    </tr>\n",
       "    <tr>\n",
       "      <th>1</th>\n",
       "      <td>2022-09-30 21:46:35+00:00</td>\n",
       "      <td>1575965354425131008</td>\n",
       "      <td>@MK_habit_addict @official_stier @MortalKombat...</td>\n",
       "      <td>MiKeMcDnet</td>\n",
       "      <td>neutral</td>\n",
       "      <td>0.519470</td>\n",
       "      <td>joy</td>\n",
       "      <td>0.886913</td>\n",
       "    </tr>\n",
       "    <tr>\n",
       "      <th>2</th>\n",
       "      <td>2022-09-30 21:18:02+00:00</td>\n",
       "      <td>1575958171423752203</td>\n",
       "      <td>As @CRN celebrates its 40th anniversary, Bob F...</td>\n",
       "      <td>jfollett</td>\n",
       "      <td>positive</td>\n",
       "      <td>0.763791</td>\n",
       "      <td>joy</td>\n",
       "      <td>0.960347</td>\n",
       "    </tr>\n",
       "    <tr>\n",
       "      <th>3</th>\n",
       "      <td>2022-09-30 20:05:24+00:00</td>\n",
       "      <td>1575939891485032450</td>\n",
       "      <td>@dell your customer service is horrible especi...</td>\n",
       "      <td>daveccarr</td>\n",
       "      <td>negative</td>\n",
       "      <td>0.954023</td>\n",
       "      <td>anger</td>\n",
       "      <td>0.983203</td>\n",
       "    </tr>\n",
       "    <tr>\n",
       "      <th>4</th>\n",
       "      <td>2022-09-30 20:03:17+00:00</td>\n",
       "      <td>1575939359160750080</td>\n",
       "      <td>@zacokalo @Dell @DellCares @Dell give the man ...</td>\n",
       "      <td>heycamella</td>\n",
       "      <td>neutral</td>\n",
       "      <td>0.529170</td>\n",
       "      <td>anger</td>\n",
       "      <td>0.776124</td>\n",
       "    </tr>\n",
       "  </tbody>\n",
       "</table>\n",
       "</div>"
      ],
      "text/plain": [
       "                    Datetime             Tweet Id  \\\n",
       "0  2022-09-30 23:29:15+00:00  1575991191170342912   \n",
       "1  2022-09-30 21:46:35+00:00  1575965354425131008   \n",
       "2  2022-09-30 21:18:02+00:00  1575958171423752203   \n",
       "3  2022-09-30 20:05:24+00:00  1575939891485032450   \n",
       "4  2022-09-30 20:03:17+00:00  1575939359160750080   \n",
       "\n",
       "                                                Text        Username  \\\n",
       "0  @Logitech @apple @Google @Microsoft @Dell @Len...  ManjuSreedaran   \n",
       "1  @MK_habit_addict @official_stier @MortalKombat...      MiKeMcDnet   \n",
       "2  As @CRN celebrates its 40th anniversary, Bob F...        jfollett   \n",
       "3  @dell your customer service is horrible especi...       daveccarr   \n",
       "4  @zacokalo @Dell @DellCares @Dell give the man ...      heycamella   \n",
       "\n",
       "  sentiment  sentiment_score       emotion  emotion_score  \n",
       "0   neutral         0.853283  anticipation       0.587121  \n",
       "1   neutral         0.519470           joy       0.886913  \n",
       "2  positive         0.763791           joy       0.960347  \n",
       "3  negative         0.954023         anger       0.983203  \n",
       "4   neutral         0.529170         anger       0.776124  "
      ]
     },
     "execution_count": 2,
     "metadata": {},
     "output_type": "execute_result"
    }
   ],
   "source": [
    "data = pd.read_csv(\"sentiment-emotion-labelled_Dell_tweets.csv\").dropna()\n",
    "# data.drop('selected_text', axis=1,inplace=True)\n",
    "data.drop(\"Unnamed: 0\", axis=1, inplace=True)\n",
    "data.head()\n"
   ]
  },
  {
   "cell_type": "code",
   "execution_count": 3,
   "metadata": {},
   "outputs": [
    {
     "data": {
      "text/html": [
       "<div>\n",
       "<style scoped>\n",
       "    .dataframe tbody tr th:only-of-type {\n",
       "        vertical-align: middle;\n",
       "    }\n",
       "\n",
       "    .dataframe tbody tr th {\n",
       "        vertical-align: top;\n",
       "    }\n",
       "\n",
       "    .dataframe thead th {\n",
       "        text-align: right;\n",
       "    }\n",
       "</style>\n",
       "<table border=\"1\" class=\"dataframe\">\n",
       "  <thead>\n",
       "    <tr style=\"text-align: right;\">\n",
       "      <th></th>\n",
       "      <th>Text</th>\n",
       "      <th>emotion</th>\n",
       "    </tr>\n",
       "  </thead>\n",
       "  <tbody>\n",
       "    <tr>\n",
       "      <th>0</th>\n",
       "      <td>@Logitech @apple @Google @Microsoft @Dell @Len...</td>\n",
       "      <td>anticipation</td>\n",
       "    </tr>\n",
       "    <tr>\n",
       "      <th>1</th>\n",
       "      <td>@MK_habit_addict @official_stier @MortalKombat...</td>\n",
       "      <td>joy</td>\n",
       "    </tr>\n",
       "    <tr>\n",
       "      <th>2</th>\n",
       "      <td>As @CRN celebrates its 40th anniversary, Bob F...</td>\n",
       "      <td>joy</td>\n",
       "    </tr>\n",
       "    <tr>\n",
       "      <th>3</th>\n",
       "      <td>@dell your customer service is horrible especi...</td>\n",
       "      <td>anger</td>\n",
       "    </tr>\n",
       "    <tr>\n",
       "      <th>4</th>\n",
       "      <td>@zacokalo @Dell @DellCares @Dell give the man ...</td>\n",
       "      <td>anger</td>\n",
       "    </tr>\n",
       "  </tbody>\n",
       "</table>\n",
       "</div>"
      ],
      "text/plain": [
       "                                                Text       emotion\n",
       "0  @Logitech @apple @Google @Microsoft @Dell @Len...  anticipation\n",
       "1  @MK_habit_addict @official_stier @MortalKombat...           joy\n",
       "2  As @CRN celebrates its 40th anniversary, Bob F...           joy\n",
       "3  @dell your customer service is horrible especi...         anger\n",
       "4  @zacokalo @Dell @DellCares @Dell give the man ...         anger"
      ]
     },
     "execution_count": 3,
     "metadata": {},
     "output_type": "execute_result"
    }
   ],
   "source": [
    "selected_columns = [\"Text\", \"emotion\"]\n",
    "data = data[selected_columns]\n",
    "data.head()\n"
   ]
  },
  {
   "cell_type": "markdown",
   "metadata": {},
   "source": [
    "### The data contains 4 columns. i only need the feeling and the tweets\n"
   ]
  },
  {
   "cell_type": "code",
   "execution_count": 4,
   "metadata": {},
   "outputs": [
    {
     "data": {
      "text/html": [
       "<div>\n",
       "<style scoped>\n",
       "    .dataframe tbody tr th:only-of-type {\n",
       "        vertical-align: middle;\n",
       "    }\n",
       "\n",
       "    .dataframe tbody tr th {\n",
       "        vertical-align: top;\n",
       "    }\n",
       "\n",
       "    .dataframe thead th {\n",
       "        text-align: right;\n",
       "    }\n",
       "</style>\n",
       "<table border=\"1\" class=\"dataframe\">\n",
       "  <thead>\n",
       "    <tr style=\"text-align: right;\">\n",
       "      <th></th>\n",
       "      <th>Text</th>\n",
       "      <th>emotion</th>\n",
       "    </tr>\n",
       "  </thead>\n",
       "  <tbody>\n",
       "    <tr>\n",
       "      <th>0</th>\n",
       "      <td>@Logitech @apple @Google @Microsoft @Dell @Len...</td>\n",
       "      <td>anticipation</td>\n",
       "    </tr>\n",
       "    <tr>\n",
       "      <th>1</th>\n",
       "      <td>@MK_habit_addict @official_stier @MortalKombat...</td>\n",
       "      <td>joy</td>\n",
       "    </tr>\n",
       "    <tr>\n",
       "      <th>2</th>\n",
       "      <td>As @CRN celebrates its 40th anniversary, Bob F...</td>\n",
       "      <td>joy</td>\n",
       "    </tr>\n",
       "    <tr>\n",
       "      <th>3</th>\n",
       "      <td>@dell your customer service is horrible especi...</td>\n",
       "      <td>anger</td>\n",
       "    </tr>\n",
       "    <tr>\n",
       "      <th>4</th>\n",
       "      <td>@zacokalo @Dell @DellCares @Dell give the man ...</td>\n",
       "      <td>anger</td>\n",
       "    </tr>\n",
       "  </tbody>\n",
       "</table>\n",
       "</div>"
      ],
      "text/plain": [
       "                                                Text       emotion\n",
       "0  @Logitech @apple @Google @Microsoft @Dell @Len...  anticipation\n",
       "1  @MK_habit_addict @official_stier @MortalKombat...           joy\n",
       "2  As @CRN celebrates its 40th anniversary, Bob F...           joy\n",
       "3  @dell your customer service is horrible especi...         anger\n",
       "4  @zacokalo @Dell @DellCares @Dell give the man ...         anger"
      ]
     },
     "execution_count": 4,
     "metadata": {},
     "output_type": "execute_result"
    }
   ],
   "source": [
    "data.dropna()\n",
    "data.head()\n"
   ]
  },
  {
   "cell_type": "markdown",
   "metadata": {},
   "source": [
    "### the data has some tags with \"@\" and \"#\" symbols and numbers for the user names which i don't need for the emotion so i will take out\n"
   ]
  },
  {
   "cell_type": "code",
   "execution_count": 5,
   "metadata": {},
   "outputs": [
    {
     "name": "stderr",
     "output_type": "stream",
     "text": [
      "/home/mojo/anaconda3/envs/nlp-project/lib/python3.6/site-packages/tensorflow/python/framework/dtypes.py:523: FutureWarning: Passing (type, 1) or '1type' as a synonym of type is deprecated; in a future version of numpy, it will be understood as (type, (1,)) / '(1,)type'.\n",
      "  _np_qint8 = np.dtype([(\"qint8\", np.int8, 1)])\n",
      "/home/mojo/anaconda3/envs/nlp-project/lib/python3.6/site-packages/tensorflow/python/framework/dtypes.py:524: FutureWarning: Passing (type, 1) or '1type' as a synonym of type is deprecated; in a future version of numpy, it will be understood as (type, (1,)) / '(1,)type'.\n",
      "  _np_quint8 = np.dtype([(\"quint8\", np.uint8, 1)])\n",
      "/home/mojo/anaconda3/envs/nlp-project/lib/python3.6/site-packages/tensorflow/python/framework/dtypes.py:525: FutureWarning: Passing (type, 1) or '1type' as a synonym of type is deprecated; in a future version of numpy, it will be understood as (type, (1,)) / '(1,)type'.\n",
      "  _np_qint16 = np.dtype([(\"qint16\", np.int16, 1)])\n",
      "/home/mojo/anaconda3/envs/nlp-project/lib/python3.6/site-packages/tensorflow/python/framework/dtypes.py:526: FutureWarning: Passing (type, 1) or '1type' as a synonym of type is deprecated; in a future version of numpy, it will be understood as (type, (1,)) / '(1,)type'.\n",
      "  _np_quint16 = np.dtype([(\"quint16\", np.uint16, 1)])\n",
      "/home/mojo/anaconda3/envs/nlp-project/lib/python3.6/site-packages/tensorflow/python/framework/dtypes.py:527: FutureWarning: Passing (type, 1) or '1type' as a synonym of type is deprecated; in a future version of numpy, it will be understood as (type, (1,)) / '(1,)type'.\n",
      "  _np_qint32 = np.dtype([(\"qint32\", np.int32, 1)])\n",
      "/home/mojo/anaconda3/envs/nlp-project/lib/python3.6/site-packages/tensorflow/python/framework/dtypes.py:532: FutureWarning: Passing (type, 1) or '1type' as a synonym of type is deprecated; in a future version of numpy, it will be understood as (type, (1,)) / '(1,)type'.\n",
      "  np_resource = np.dtype([(\"resource\", np.ubyte, 1)])\n"
     ]
    }
   ],
   "source": [
    "import spacy\n",
    "\n",
    "nlp = spacy.load(\"en_core_web_lg\")\n",
    "# tweet_data.dtypes\n"
   ]
  },
  {
   "cell_type": "markdown",
   "metadata": {},
   "source": [
    "## Preprocessing\n"
   ]
  },
  {
   "cell_type": "code",
   "execution_count": 6,
   "metadata": {},
   "outputs": [
    {
     "data": {
      "text/html": [
       "<div>\n",
       "<style scoped>\n",
       "    .dataframe tbody tr th:only-of-type {\n",
       "        vertical-align: middle;\n",
       "    }\n",
       "\n",
       "    .dataframe tbody tr th {\n",
       "        vertical-align: top;\n",
       "    }\n",
       "\n",
       "    .dataframe thead th {\n",
       "        text-align: right;\n",
       "    }\n",
       "</style>\n",
       "<table border=\"1\" class=\"dataframe\">\n",
       "  <thead>\n",
       "    <tr style=\"text-align: right;\">\n",
       "      <th></th>\n",
       "      <th>Text</th>\n",
       "      <th>emotion</th>\n",
       "    </tr>\n",
       "  </thead>\n",
       "  <tbody>\n",
       "    <tr>\n",
       "      <th>0</th>\n",
       "      <td>@Logitech @apple @Google @Microsoft @Dell @Len...</td>\n",
       "      <td>anticipation</td>\n",
       "    </tr>\n",
       "    <tr>\n",
       "      <th>1</th>\n",
       "      <td>@MK_habit_addict @official_stier @MortalKombat...</td>\n",
       "      <td>joy</td>\n",
       "    </tr>\n",
       "    <tr>\n",
       "      <th>2</th>\n",
       "      <td>As @CRN celebrates its 40th anniversary, Bob F...</td>\n",
       "      <td>joy</td>\n",
       "    </tr>\n",
       "    <tr>\n",
       "      <th>3</th>\n",
       "      <td>@dell your customer service is horrible especi...</td>\n",
       "      <td>anger</td>\n",
       "    </tr>\n",
       "    <tr>\n",
       "      <th>4</th>\n",
       "      <td>@zacokalo @Dell @DellCares @Dell give the man ...</td>\n",
       "      <td>anger</td>\n",
       "    </tr>\n",
       "  </tbody>\n",
       "</table>\n",
       "</div>"
      ],
      "text/plain": [
       "                                                Text       emotion\n",
       "0  @Logitech @apple @Google @Microsoft @Dell @Len...  anticipation\n",
       "1  @MK_habit_addict @official_stier @MortalKombat...           joy\n",
       "2  As @CRN celebrates its 40th anniversary, Bob F...           joy\n",
       "3  @dell your customer service is horrible especi...         anger\n",
       "4  @zacokalo @Dell @DellCares @Dell give the man ...         anger"
      ]
     },
     "execution_count": 6,
     "metadata": {},
     "output_type": "execute_result"
    }
   ],
   "source": [
    "def preprocess(sents):\n",
    "    doc = nlp(sents)\n",
    "\n",
    "    cleaned_text = [\n",
    "        # performing lemmatization and removing punctuations, stop words, emails and urls from the text\n",
    "        token.lemma_\n",
    "        for token in doc\n",
    "        if not (\n",
    "            token.text.isdigit()\n",
    "            or token.is_punct\n",
    "            or token.is_stop\n",
    "            or token.like_email\n",
    "            or token.text.startswith(\"@\")\n",
    "            or token.text.startswith(\"#\")\n",
    "            or token.like_url\n",
    "            or token.text.isspace()\n",
    "        )\n",
    "    ]\n",
    "\n",
    "    return \" \".join(cleaned_text)  # returns the cleaned text\n",
    "\n",
    "\n",
    "data.head()\n"
   ]
  },
  {
   "cell_type": "code",
   "execution_count": 7,
   "metadata": {},
   "outputs": [],
   "source": [
    "# tweet_data.insert(1, \"clean_tweet\", tweet_data[\"Text\"].apply(lambda x: preprocess(str(x))))\n"
   ]
  },
  {
   "cell_type": "code",
   "execution_count": 8,
   "metadata": {},
   "outputs": [],
   "source": [
    "data.insert(1, \"clean_tweet\", data[\"Text\"].apply(lambda x: preprocess(str(x))))\n"
   ]
  },
  {
   "cell_type": "code",
   "execution_count": 9,
   "metadata": {},
   "outputs": [
    {
     "data": {
      "text/html": [
       "<div>\n",
       "<style scoped>\n",
       "    .dataframe tbody tr th:only-of-type {\n",
       "        vertical-align: middle;\n",
       "    }\n",
       "\n",
       "    .dataframe tbody tr th {\n",
       "        vertical-align: top;\n",
       "    }\n",
       "\n",
       "    .dataframe thead th {\n",
       "        text-align: right;\n",
       "    }\n",
       "</style>\n",
       "<table border=\"1\" class=\"dataframe\">\n",
       "  <thead>\n",
       "    <tr style=\"text-align: right;\">\n",
       "      <th></th>\n",
       "      <th>Text</th>\n",
       "      <th>clean_tweet</th>\n",
       "      <th>emotion</th>\n",
       "    </tr>\n",
       "  </thead>\n",
       "  <tbody>\n",
       "    <tr>\n",
       "      <th>0</th>\n",
       "      <td>@Logitech @apple @Google @Microsoft @Dell @Len...</td>\n",
       "      <td>WhatIf QWERTY modify programmer thing like bra...</td>\n",
       "      <td>anticipation</td>\n",
       "    </tr>\n",
       "    <tr>\n",
       "      <th>1</th>\n",
       "      <td>@MK_habit_addict @official_stier @MortalKombat...</td>\n",
       "      <td>get new laptop year old triple price high utility</td>\n",
       "      <td>joy</td>\n",
       "    </tr>\n",
       "    <tr>\n",
       "      <th>2</th>\n",
       "      <td>As @CRN celebrates its 40th anniversary, Bob F...</td>\n",
       "      <td>celebrate 40th anniversary Bob Faletra speak m...</td>\n",
       "      <td>joy</td>\n",
       "    </tr>\n",
       "    <tr>\n",
       "      <th>3</th>\n",
       "      <td>@dell your customer service is horrible especi...</td>\n",
       "      <td>customer service horrible especially agent sye...</td>\n",
       "      <td>anger</td>\n",
       "    </tr>\n",
       "    <tr>\n",
       "      <th>4</th>\n",
       "      <td>@zacokalo @Dell @DellCares @Dell give the man ...</td>\n",
       "      <td>man pay</td>\n",
       "      <td>anger</td>\n",
       "    </tr>\n",
       "  </tbody>\n",
       "</table>\n",
       "</div>"
      ],
      "text/plain": [
       "                                                Text  \\\n",
       "0  @Logitech @apple @Google @Microsoft @Dell @Len...   \n",
       "1  @MK_habit_addict @official_stier @MortalKombat...   \n",
       "2  As @CRN celebrates its 40th anniversary, Bob F...   \n",
       "3  @dell your customer service is horrible especi...   \n",
       "4  @zacokalo @Dell @DellCares @Dell give the man ...   \n",
       "\n",
       "                                         clean_tweet       emotion  \n",
       "0  WhatIf QWERTY modify programmer thing like bra...  anticipation  \n",
       "1  get new laptop year old triple price high utility           joy  \n",
       "2  celebrate 40th anniversary Bob Faletra speak m...           joy  \n",
       "3  customer service horrible especially agent sye...         anger  \n",
       "4                                            man pay         anger  "
      ]
     },
     "execution_count": 9,
     "metadata": {},
     "output_type": "execute_result"
    }
   ],
   "source": [
    "# !pip install -U textblob\n",
    "from textblob import TextBlob\n",
    "from textblob import Word\n",
    "\n",
    "# tweet_data['clean_tweet'] = tweet_data['clean_tweet'].apply(lambda a: str(TextBlob(a).correct())) # takes too long\n",
    "data.head()\n"
   ]
  },
  {
   "cell_type": "code",
   "execution_count": 10,
   "metadata": {},
   "outputs": [],
   "source": [
    "tweet_data = data.copy()\n"
   ]
  },
  {
   "cell_type": "code",
   "execution_count": 11,
   "metadata": {},
   "outputs": [
    {
     "data": {
      "text/plain": [
       "anger           7520\n",
       "joy             6326\n",
       "anticipation    5171\n",
       "disgust         3000\n",
       "sadness         1328\n",
       "optimism        1225\n",
       "fear             366\n",
       "surprise          34\n",
       "Name: emotion, dtype: int64"
      ]
     },
     "execution_count": 11,
     "metadata": {},
     "output_type": "execute_result"
    }
   ],
   "source": [
    "tweet_data[\"emotion\"].value_counts()\n"
   ]
  },
  {
   "cell_type": "markdown",
   "metadata": {},
   "source": [
    "## Encoding labels for other models\n"
   ]
  },
  {
   "cell_type": "code",
   "execution_count": 12,
   "metadata": {},
   "outputs": [
    {
     "data": {
      "text/html": [
       "<div>\n",
       "<style scoped>\n",
       "    .dataframe tbody tr th:only-of-type {\n",
       "        vertical-align: middle;\n",
       "    }\n",
       "\n",
       "    .dataframe tbody tr th {\n",
       "        vertical-align: top;\n",
       "    }\n",
       "\n",
       "    .dataframe thead th {\n",
       "        text-align: right;\n",
       "    }\n",
       "</style>\n",
       "<table border=\"1\" class=\"dataframe\">\n",
       "  <thead>\n",
       "    <tr style=\"text-align: right;\">\n",
       "      <th></th>\n",
       "      <th>Text</th>\n",
       "      <th>clean_tweet</th>\n",
       "      <th>emotion</th>\n",
       "    </tr>\n",
       "  </thead>\n",
       "  <tbody>\n",
       "    <tr>\n",
       "      <th>24965</th>\n",
       "      <td>@ElDarkAngel2 @GamersNexus @Dell I wouldn't ev...</td>\n",
       "      <td>know blow whistle people follow GamersNexus kn...</td>\n",
       "      <td>0</td>\n",
       "    </tr>\n",
       "    <tr>\n",
       "      <th>24966</th>\n",
       "      <td>@kite_real @GamersNexus @Dell I didn't really ...</td>\n",
       "      <td>leave ethical reason personal bonus sure decis...</td>\n",
       "      <td>4</td>\n",
       "    </tr>\n",
       "    <tr>\n",
       "      <th>24967</th>\n",
       "      <td>Hey @JoshTheFixer here it is....27 4K UHD USB-...</td>\n",
       "      <td>hey k uhd usb c</td>\n",
       "      <td>1</td>\n",
       "    </tr>\n",
       "    <tr>\n",
       "      <th>24968</th>\n",
       "      <td>@bravadogaming @thewolfpena @Alienware @intel ...</td>\n",
       "      <td>Imma honest watch Dragon Ball Z imma wild gues...</td>\n",
       "      <td>1</td>\n",
       "    </tr>\n",
       "    <tr>\n",
       "      <th>24969</th>\n",
       "      <td>@rabia_ejaz @Dell Stopped buying windows lapto...</td>\n",
       "      <td>stop buy window laptop longtime ago MacBook Pr...</td>\n",
       "      <td>4</td>\n",
       "    </tr>\n",
       "  </tbody>\n",
       "</table>\n",
       "</div>"
      ],
      "text/plain": [
       "                                                    Text  \\\n",
       "24965  @ElDarkAngel2 @GamersNexus @Dell I wouldn't ev...   \n",
       "24966  @kite_real @GamersNexus @Dell I didn't really ...   \n",
       "24967  Hey @JoshTheFixer here it is....27 4K UHD USB-...   \n",
       "24968  @bravadogaming @thewolfpena @Alienware @intel ...   \n",
       "24969  @rabia_ejaz @Dell Stopped buying windows lapto...   \n",
       "\n",
       "                                             clean_tweet  emotion  \n",
       "24965  know blow whistle people follow GamersNexus kn...        0  \n",
       "24966  leave ethical reason personal bonus sure decis...        4  \n",
       "24967                                    hey k uhd usb c        1  \n",
       "24968  Imma honest watch Dragon Ball Z imma wild gues...        1  \n",
       "24969  stop buy window laptop longtime ago MacBook Pr...        4  "
      ]
     },
     "execution_count": 12,
     "metadata": {},
     "output_type": "execute_result"
    }
   ],
   "source": [
    "object = preprocessing.LabelEncoder()\n",
    "tweet_data[\"emotion\"] = object.fit_transform(tweet_data[\"emotion\"])\n",
    "tweet_data.tail()\n"
   ]
  },
  {
   "cell_type": "code",
   "execution_count": 13,
   "metadata": {},
   "outputs": [
    {
     "data": {
      "text/plain": [
       "anger           7520\n",
       "joy             6326\n",
       "anticipation    5171\n",
       "disgust         3000\n",
       "sadness         1328\n",
       "optimism        1225\n",
       "fear             366\n",
       "surprise          34\n",
       "Name: emotion, dtype: int64"
      ]
     },
     "execution_count": 13,
     "metadata": {},
     "output_type": "execute_result"
    }
   ],
   "source": [
    "data[\"emotion\"].value_counts()\n"
   ]
  },
  {
   "cell_type": "markdown",
   "metadata": {},
   "source": [
    "## Train test slit\n"
   ]
  },
  {
   "cell_type": "code",
   "execution_count": 14,
   "metadata": {},
   "outputs": [],
   "source": [
    "X_train, X_test, y_train, y_test = train_test_split(\n",
    "    tweet_data[\"Text\"], tweet_data[\"emotion\"], stratify=tweet_data[\"emotion\"]\n",
    ")\n"
   ]
  },
  {
   "cell_type": "markdown",
   "metadata": {},
   "source": [
    "## Feature Engineering\n"
   ]
  },
  {
   "cell_type": "code",
   "execution_count": 15,
   "metadata": {},
   "outputs": [],
   "source": [
    "## using count vectorizer\n",
    "cv = CountVectorizer()\n",
    "cv.fit(tweet_data[\"clean_tweet\"])\n",
    "\n",
    "cv_xtrain = cv.transform(X_train)\n",
    "cv_xtest = cv.transform(X_test)\n",
    "\n",
    "## Using TF IDF\n",
    "tv = TfidfVectorizer()\n",
    "tv.fit(tweet_data[\"clean_tweet\"])\n",
    "\n",
    "tv_xtrain = tv.transform(X_train)\n",
    "tv_xtest = tv.transform(X_test)\n"
   ]
  },
  {
   "cell_type": "markdown",
   "metadata": {},
   "source": [
    "# Model Building\n"
   ]
  },
  {
   "cell_type": "markdown",
   "metadata": {},
   "source": [
    "### Here, i build different models\n"
   ]
  },
  {
   "cell_type": "markdown",
   "metadata": {},
   "source": [
    "#### build function\n"
   ]
  },
  {
   "cell_type": "code",
   "execution_count": 16,
   "metadata": {},
   "outputs": [],
   "source": [
    "def build(\n",
    "    model_initializer, independent_variables_training, target, independent_variable_test\n",
    "):\n",
    "    # fit\n",
    "    model_initializer.fit(independent_variables_training, target)\n",
    "\n",
    "    # predict\n",
    "    modelPred = model_initializer.predict(independent_variable_test)\n",
    "    return metrics.accuracy_score(modelPred, y_test)\n"
   ]
  },
  {
   "cell_type": "markdown",
   "metadata": {},
   "source": [
    "## Multinomial Naive Bayes\n"
   ]
  },
  {
   "cell_type": "code",
   "execution_count": 17,
   "metadata": {},
   "outputs": [
    {
     "name": "stdout",
     "output_type": "stream",
     "text": [
      "performance with TF IDF: 0.5787281755566234\n",
      "performance with Count vectors: 0.5236264616370335\n"
     ]
    }
   ],
   "source": [
    "output_tfidf = build(naive_bayes.MultinomialNB(), cv_xtrain, y_train, cv_xtest)\n",
    "output_cv = build(naive_bayes.MultinomialNB(), tv_xtrain, y_train, tv_xtest)\n",
    "print(\n",
    "    f\"performance with TF IDF: {output_tfidf}\\nperformance with Count vectors: {output_cv}\"\n",
    ")\n"
   ]
  },
  {
   "cell_type": "markdown",
   "metadata": {},
   "source": [
    "## Logistic Regression\n"
   ]
  },
  {
   "cell_type": "code",
   "execution_count": 18,
   "metadata": {},
   "outputs": [
    {
     "name": "stderr",
     "output_type": "stream",
     "text": [
      "/home/mojo/anaconda3/envs/nlp-project/lib/python3.6/site-packages/sklearn/linear_model/_logistic.py:765: ConvergenceWarning: lbfgs failed to converge (status=1):\n",
      "STOP: TOTAL NO. of ITERATIONS REACHED LIMIT.\n",
      "\n",
      "Increase the number of iterations (max_iter) or scale the data as shown in:\n",
      "    https://scikit-learn.org/stable/modules/preprocessing.html\n",
      "Please also refer to the documentation for alternative solver options:\n",
      "    https://scikit-learn.org/stable/modules/linear_model.html#logistic-regression\n",
      "  extra_warning_msg=_LOGISTIC_SOLVER_CONVERGENCE_MSG)\n"
     ]
    },
    {
     "name": "stdout",
     "output_type": "stream",
     "text": [
      "performance with TF IDF: 0.6147685407656576\n",
      "performance with Count vectors: 0.6456831651449624\n"
     ]
    }
   ],
   "source": [
    "output_tfidf = build(linear_model.LogisticRegression(), tv_xtrain, y_train, tv_xtest)\n",
    "output_cv = build(\n",
    "    linear_model.LogisticRegression(max_iter=4000), cv_xtrain, y_train, cv_xtest\n",
    ")\n",
    "print(\n",
    "    f\"performance with TF IDF: {output_tfidf}\\nperformance with Count vectors: {output_cv}\"\n",
    ")\n"
   ]
  },
  {
   "cell_type": "markdown",
   "metadata": {},
   "source": [
    "## Support vector machine\n"
   ]
  },
  {
   "cell_type": "code",
   "execution_count": 19,
   "metadata": {},
   "outputs": [
    {
     "name": "stdout",
     "output_type": "stream",
     "text": [
      "performance with TF IDF: 0.6106038763415025\n",
      "performance with Count vectors: 0.6147685407656576\n"
     ]
    }
   ],
   "source": [
    "output_tfidf = build(svm.SVC(), tv_xtrain, y_train, tv_xtest)\n",
    "output_cv = build(svm.SVC(), cv_xtrain, y_train, cv_xtest)\n",
    "print(\n",
    "    f\"performance with TF IDF: {output_tfidf}\\nperformance with Count vectors: {output_cv}\"\n",
    ")\n"
   ]
  },
  {
   "cell_type": "markdown",
   "metadata": {},
   "source": [
    "## Random Forest\n"
   ]
  },
  {
   "cell_type": "code",
   "execution_count": 20,
   "metadata": {},
   "outputs": [
    {
     "name": "stdout",
     "output_type": "stream",
     "text": [
      "training with TF IDF: 0.592823962838379\n",
      "training with Count vectors: 0.596668268460676\n"
     ]
    }
   ],
   "source": [
    "output_tfidf = build(ensemble.RandomForestClassifier(), tv_xtrain, y_train, tv_xtest)\n",
    "output_cv = build(ensemble.RandomForestClassifier(), cv_xtrain, y_train, cv_xtest)\n",
    "print(f\"training with TF IDF: {output_tfidf}\\ntraining with Count vectors: {output_cv}\")\n"
   ]
  },
  {
   "cell_type": "code",
   "execution_count": 21,
   "metadata": {},
   "outputs": [],
   "source": [
    "# models = [naive_bayes.MultinomialNB()]\n"
   ]
  },
  {
   "cell_type": "code",
   "execution_count": 22,
   "metadata": {},
   "outputs": [
    {
     "data": {
      "text/plain": [
       "array(['anticipation', 'joy', 'anger', 'sadness', 'fear', 'optimism',\n",
       "       'disgust', 'surprise'], dtype=object)"
      ]
     },
     "execution_count": 22,
     "metadata": {},
     "output_type": "execute_result"
    }
   ],
   "source": [
    "unique_labels = data[\"emotion\"].unique()\n",
    "unique_labels\n"
   ]
  },
  {
   "cell_type": "markdown",
   "metadata": {},
   "source": [
    "## training with spacy\n"
   ]
  },
  {
   "cell_type": "code",
   "execution_count": 23,
   "metadata": {},
   "outputs": [],
   "source": [
    "def df_to_spacy_format(df):\n",
    "    new_data = []\n",
    "    for index, row in df.iterrows():\n",
    "        text = row[\"clean_tweet\"]\n",
    "\n",
    "        categories = unique_labels\n",
    "        default_cats = {category: 0 for category in categories}\n",
    "        cats_dict = {\"cats\": default_cats}\n",
    "        cats_dict[\"cats\"][df.loc[index, \"emotion\"]] = 1\n",
    "\n",
    "        new_data.append((text, cats_dict))\n",
    "    return new_data\n"
   ]
  },
  {
   "cell_type": "code",
   "execution_count": 24,
   "metadata": {},
   "outputs": [],
   "source": [
    "# data.insert(2, \"clean_tweet\", data[\"text\"].apply(lambda x: preprocess(str(x))))\n"
   ]
  },
  {
   "cell_type": "code",
   "execution_count": 25,
   "metadata": {},
   "outputs": [],
   "source": [
    "train_data = df_to_spacy_format(data)\n"
   ]
  },
  {
   "cell_type": "markdown",
   "metadata": {},
   "source": [
    "## shuffle dataset\n"
   ]
  },
  {
   "cell_type": "code",
   "execution_count": 26,
   "metadata": {},
   "outputs": [],
   "source": [
    "import random\n",
    "\n",
    "random.shuffle(train_data)\n"
   ]
  },
  {
   "cell_type": "code",
   "execution_count": 27,
   "metadata": {},
   "outputs": [],
   "source": [
    "train_set, test_set = train_test_split(train_data, test_size=0.3)\n"
   ]
  },
  {
   "cell_type": "code",
   "execution_count": 28,
   "metadata": {},
   "outputs": [],
   "source": [
    "from spacy.util import minibatch\n",
    "from spacy.pipeline.textcat import Config, single_label_cnn_config\n",
    "from spacy.training.example import Example\n",
    "\n",
    "# Add the 'textcat' component in the spacy pipeline\n",
    "nlp = spacy.blank(\"en\")\n",
    "\n",
    "nlp = spacy.blank(\"en\")\n",
    "if \"textcat\" not in nlp.pipe_names:\n",
    "\n",
    "    textcat = nlp.add_pipe(\"textcat\", last=True)\n",
    "else:\n",
    "    textcat = nlp.get_pipe(\"textcat\")\n",
    "\n",
    "# Add labels into the component\n",
    "for item in unique_labels:\n",
    "    textcat.add_label(f\"{item}\")\n",
    "    # print(item)\n"
   ]
  },
  {
   "cell_type": "markdown",
   "metadata": {},
   "source": [
    "# train function\n"
   ]
  },
  {
   "cell_type": "code",
   "execution_count": 29,
   "metadata": {},
   "outputs": [],
   "source": [
    "def nn_spacy(num_epochs, batch_size, data_train):\n",
    "\n",
    "    # Training the text categorization model\n",
    "    optimizer = nlp.initialize()\n",
    "    tot_loss = []\n",
    "    for epoch in range(num_epochs):  # Number of training epochs\n",
    "        losses = {}\n",
    "        batches = minibatch(data_train, size=batch_size)\n",
    "        for batch in batches:\n",
    "            examples = [\n",
    "                Example.from_dict(nlp.make_doc(text), annotations)\n",
    "                for text, annotations in batch\n",
    "            ]\n",
    "            nlp.update(examples, drop=0.5, losses=losses, sgd=optimizer)\n",
    "        print(losses[\"textcat\"])\n",
    "        tot_loss.append(losses[\"textcat\"])\n",
    "\n",
    "    return tot_loss, nlp\n"
   ]
  },
  {
   "cell_type": "markdown",
   "metadata": {},
   "source": [
    "## Hyper parameter tuning to pick the best batch size. training for 10 epochs since i am just trying to find a good batch size\n"
   ]
  },
  {
   "cell_type": "code",
   "execution_count": 30,
   "metadata": {},
   "outputs": [],
   "source": [
    "# batch_sizes = [64,128, 256,512]\n",
    "# losses = []\n",
    "# for size in batch_sizes:\n",
    "#     b_size = f\"batch size: {size}\"\n",
    "#     print(b_size)\n",
    "#     loss ,model = nn_spacy(10,size,train_data)\n",
    "#     losses.append([b_size,min(loss)])\n",
    "\n",
    "# losses\n"
   ]
  },
  {
   "cell_type": "markdown",
   "metadata": {},
   "source": [
    "## Training for 100 epochs and 512 batch size\n"
   ]
  },
  {
   "cell_type": "code",
   "execution_count": 31,
   "metadata": {},
   "outputs": [
    {
     "name": "stdout",
     "output_type": "stream",
     "text": [
      "4.857541345059872\n",
      "4.368305407464504\n",
      "4.025343611836433\n",
      "3.8233011662960052\n",
      "3.6691423654556274\n",
      "3.540233202278614\n",
      "3.424624763429165\n",
      "3.309135966002941\n",
      "3.22947970405221\n",
      "3.163807485252619\n",
      "3.0968495160341263\n",
      "3.0227304063737392\n",
      "2.940198093652725\n",
      "2.903957474976778\n",
      "2.8466481640934944\n",
      "2.8098668567836285\n",
      "2.7611792162060738\n",
      "2.735790092498064\n",
      "2.6764619946479797\n",
      "2.665468018501997\n",
      "2.6131326518952847\n",
      "2.605767782777548\n",
      "2.5169555582106113\n",
      "2.5066996850073338\n",
      "2.4913299307227135\n",
      "2.47675434499979\n",
      "2.455080296844244\n",
      "2.4000687673687935\n",
      "2.4016387090086937\n",
      "2.357597626745701\n",
      "2.3663178607821465\n",
      "2.3228357546031475\n",
      "2.3140935599803925\n",
      "2.283721152693033\n",
      "2.277523074299097\n",
      "2.260466955602169\n",
      "2.2358580231666565\n",
      "2.2107797116041183\n",
      "2.211583435535431\n",
      "2.1973995566368103\n",
      "2.1704511642456055\n",
      "2.1671858727931976\n",
      "2.133602738380432\n",
      "2.1329357847571373\n",
      "2.11939037963748\n",
      "2.098908744752407\n",
      "2.080670442432165\n",
      "2.0777680538594723\n",
      "2.0560664013028145\n",
      "2.026368875056505\n",
      "2.0375291407108307\n",
      "2.02806057035923\n",
      "2.033093810081482\n",
      "2.0167286433279514\n",
      "1.9930665232241154\n",
      "1.9971241392195225\n",
      "1.9727215468883514\n",
      "1.957806047052145\n",
      "1.9408251270651817\n",
      "1.9479334354400635\n",
      "1.9474270455539227\n",
      "1.9240237064659595\n",
      "1.8989272601902485\n",
      "1.8961179628968239\n",
      "1.8937578909099102\n",
      "1.8862770982086658\n",
      "1.8716132640838623\n",
      "1.88416844047606\n",
      "1.832184799015522\n",
      "1.8212943002581596\n",
      "1.8384635969996452\n",
      "1.8387357480823994\n",
      "1.8189183231443167\n",
      "1.8128215819597244\n",
      "1.8046750165522099\n",
      "1.8156621269881725\n",
      "1.8094628229737282\n",
      "1.789135631173849\n",
      "1.7734952624887228\n",
      "1.767604200169444\n",
      "1.7550372146070004\n",
      "1.7820327766239643\n",
      "1.7545342817902565\n",
      "1.748919915407896\n",
      "1.7507580816745758\n",
      "1.7069792207330465\n",
      "1.7543427143245935\n",
      "1.7124689891934395\n",
      "1.7146199010312557\n",
      "1.724761264398694\n",
      "1.731620166450739\n",
      "1.6889848057180643\n",
      "1.6940867472440004\n",
      "1.702106412500143\n",
      "1.6667291913181543\n",
      "1.676960663869977\n",
      "1.6742361038923264\n",
      "1.6656986251473427\n",
      "1.709233682602644\n",
      "1.6694290190935135\n"
     ]
    }
   ],
   "source": [
    "loss, model = nn_spacy(100, 512, train_data)\n"
   ]
  },
  {
   "cell_type": "code",
   "execution_count": 32,
   "metadata": {},
   "outputs": [
    {
     "data": {
      "text/plain": [
       "('Loss: ', 1.6656986251473427)"
      ]
     },
     "execution_count": 32,
     "metadata": {},
     "output_type": "execute_result"
    }
   ],
   "source": [
    "\"Loss: \", min(loss)\n"
   ]
  },
  {
   "cell_type": "code",
   "execution_count": 33,
   "metadata": {},
   "outputs": [],
   "source": [
    "predictions = [nlp(text).cats for text in X_test]\n"
   ]
  },
  {
   "cell_type": "markdown",
   "metadata": {},
   "source": [
    "## For each sentence in the test set, it prints out the level of confidence\n"
   ]
  },
  {
   "cell_type": "code",
   "execution_count": 34,
   "metadata": {},
   "outputs": [
    {
     "name": "stdout",
     "output_type": "stream",
     "text": [
      "{'anticipation': 0.059727974236011505, 'joy': 0.5028101205825806, 'anger': 0.40545815229415894, 'sadness': 0.005226363893598318, 'fear': 7.04668418620713e-05, 'optimism': 0.0027991081587970257, 'disgust': 0.02372916229069233, 'surprise': 0.0001786641514627263}\n",
      "{'anticipation': 0.014407833106815815, 'joy': 0.009987635537981987, 'anger': 0.39118072390556335, 'sadness': 0.4359128773212433, 'fear': 0.0011313384165987372, 'optimism': 0.00021000803099013865, 'disgust': 0.14708898961544037, 'surprise': 8.06490279501304e-05}\n",
      "{'anticipation': 0.8164342641830444, 'joy': 0.14343363046646118, 'anger': 0.0020848563872277737, 'sadness': 0.0001870933483587578, 'fear': 0.006205662153661251, 'optimism': 0.0002620424493215978, 'disgust': 0.028771981596946716, 'surprise': 0.0026204080786556005}\n",
      "{'anticipation': 0.8113275766372681, 'joy': 0.1872137486934662, 'anger': 0.00027621551998890936, 'sadness': 0.00014598701091017574, 'fear': 0.00013643089914694428, 'optimism': 0.00028516401653178036, 'disgust': 0.0005753554287366569, 'surprise': 3.95320457755588e-05}\n",
      "{'anticipation': 0.0016492088325321674, 'joy': 0.7668148875236511, 'anger': 0.11276403814554214, 'sadness': 0.04758745804429054, 'fear': 0.00087665457976982, 'optimism': 0.0056821065954864025, 'disgust': 0.06389034539461136, 'surprise': 0.0007352437824010849}\n",
      "{'anticipation': 0.8171771168708801, 'joy': 0.1709650158882141, 'anger': 1.657702523516491e-05, 'sadness': 6.847214535810053e-05, 'fear': 0.00011741957132471725, 'optimism': 0.011512109078466892, 'disgust': 0.00011987783364020288, 'surprise': 2.3450522348866798e-05}\n",
      "{'anticipation': 0.012378180399537086, 'joy': 0.3144461214542389, 'anger': 0.1455066204071045, 'sadness': 0.05355878546833992, 'fear': 0.0021845141891390085, 'optimism': 0.0007662462303414941, 'disgust': 0.47013071179389954, 'surprise': 0.0010287804761901498}\n",
      "{'anticipation': 0.0012221698416396976, 'joy': 0.04515428468585014, 'anger': 0.9127196073532104, 'sadness': 0.0009089734521694481, 'fear': 0.00013208009477239102, 'optimism': 0.0003793211071752012, 'disgust': 0.03917353227734566, 'surprise': 0.00030997497378848493}\n",
      "{'anticipation': 0.8425176739692688, 'joy': 0.1386273205280304, 'anger': 0.0007460740744136274, 'sadness': 0.003951705060899258, 'fear': 0.0019123865058645606, 'optimism': 0.00014237572031561285, 'disgust': 0.01196190807968378, 'surprise': 0.00014056998770684004}\n",
      "{'anticipation': 0.5717394948005676, 'joy': 0.005634504370391369, 'anger': 0.09202343970537186, 'sadness': 0.006488989107310772, 'fear': 0.000384636310627684, 'optimism': 0.0004697128606494516, 'disgust': 0.32301390171051025, 'surprise': 0.0002453176712151617}\n"
     ]
    }
   ],
   "source": [
    "for i in range(10):\n",
    "    print(predictions[i])\n"
   ]
  },
  {
   "cell_type": "markdown",
   "metadata": {},
   "source": [
    "## Evaluating performance on the test set\n"
   ]
  },
  {
   "cell_type": "code",
   "execution_count": 35,
   "metadata": {},
   "outputs": [],
   "source": [
    "def find_marked_categories(cat_dict):\n",
    "    marked_categories = [\n",
    "        category for category, value in cat_dict[\"cats\"].items() if value == 1\n",
    "    ]\n",
    "    return marked_categories[0]\n",
    "\n",
    "\n",
    "def predict_and_evaluate(model, test_data):\n",
    "    correct_predictions = 0\n",
    "    predictions = []\n",
    "    t_labels = []\n",
    "\n",
    "    for text, true_labels in test_data:\n",
    "        doc = model(text)\n",
    "        prediction = doc.cats\n",
    "        t_labels.append(find_marked_categories(true_labels))\n",
    "\n",
    "        highest_category = max(prediction, key=prediction.get)\n",
    "        predictions.append(highest_category)\n",
    "        if find_marked_categories(true_labels) == highest_category:\n",
    "            correct_predictions += 1\n",
    "    accuracy = correct_predictions / len(test_data)\n",
    "\n",
    "    return accuracy, predictions, t_labels\n"
   ]
  },
  {
   "cell_type": "markdown",
   "metadata": {},
   "source": [
    "## Clearly, the spacy model has a much higher accuracy when given more time to learn\n"
   ]
  },
  {
   "cell_type": "code",
   "execution_count": 122,
   "metadata": {},
   "outputs": [
    {
     "data": {
      "text/plain": [
       "0.8965425176878922"
      ]
     },
     "execution_count": 122,
     "metadata": {},
     "output_type": "execute_result"
    }
   ],
   "source": [
    "accuracy, predictions, t_labels = predict_and_evaluate(model, test_set)\n",
    "accuracy\n",
    "\n",
    "# data['emotion'].unique()\n"
   ]
  },
  {
   "cell_type": "markdown",
   "metadata": {},
   "source": [
    "### checking accuracy of the spacy model\n"
   ]
  },
  {
   "cell_type": "code",
   "execution_count": 37,
   "metadata": {},
   "outputs": [
    {
     "data": {
      "image/png": "[encoded data removed]",
      "text/plain": [
       "<Figure size 864x576 with 2 Axes>"
      ]
     },
     "metadata": {
      "needs_background": "light"
     },
     "output_type": "display_data"
    }
   ],
   "source": [
    "import seaborn as sns\n",
    "\n",
    "report = classification_report(\n",
    "    t_labels,\n",
    "    predictions,\n",
    "    target_names=[str(i) for i in data[\"emotion\"].unique()],\n",
    "    output_dict=True,\n",
    ")\n",
    "report_df = pd.DataFrame(report).transpose()\n",
    "\n",
    "# Plot the classification report as a heatmap\n",
    "plt.figure(figsize=(12, 8))\n",
    "sns.heatmap(report_df.iloc[:-1, :].astype(float), annot=True, cmap=\"Blues\", fmt=\".2f\")\n",
    "plt.title(\"Classification Report Heatmap\")\n",
    "plt.show()\n"
   ]
  },
  {
   "cell_type": "code",
   "execution_count": 126,
   "metadata": {},
   "outputs": [
    {
     "name": "stdout",
     "output_type": "stream",
     "text": [
      "predicted emotion: sadness\n"
     ]
    }
   ],
   "source": [
    "text1 = \"i don't like you\"\n",
    "text2 = \"it's my birthday.\"\n",
    "text3 = \"mangoes are nasty.\"\n",
    "text4 = \"she fell down and hit her head. It made her cry\"\n",
    "doc = nlp(text4)\n",
    "\n",
    "doc.cats\n",
    "predicted_category = max(doc.cats, key=doc.cats.get)\n",
    "print(f\"predicted emotion: {predicted_category}\")\n"
   ]
  }
 ],
 "metadata": {
  "kernelspec": {
   "display_name": "tf2",
   "language": "python",
   "name": "python3"
  },
  "language_info": {
   "codemirror_mode": {
    "name": "ipython",
    "version": 3
   },
   "file_extension": ".py",
   "mimetype": "text/x-python",
   "name": "python",
   "nbconvert_exporter": "python",
   "pygments_lexer": "ipython3",
   "version": "3.6.11"
  }
 },
 "nbformat": 4,
 "nbformat_minor": 2
}
